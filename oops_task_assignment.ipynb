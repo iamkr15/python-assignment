{
 "cells": [
  {
   "cell_type": "code",
   "execution_count": 1,
   "metadata": {},
   "outputs": [],
   "source": [
    "QUES 1 :>\n",
    "\n",
    "class vehicle :\n",
    "\tdef __init__(self,name_of_vehicle,max_speed,average_of_vehicle):\n",
    "\t\tself.name_of_vehicle = name_of_vehicle\n",
    "\t\tself.max_speed = max_speed\n",
    "\t\tself.average_of_vehicle = average_of_vehicle"
   ]
  },
  {
   "cell_type": "code",
   "execution_count": 3,
   "metadata": {},
   "outputs": [
    {
     "data": {
      "text/plain": [
       "160"
      ]
     },
     "execution_count": 3,
     "metadata": {},
     "output_type": "execute_result"
    }
   ],
   "source": [
    "v = vehicle(\"wagnor\",160,25)\n",
    "v.max_speed"
   ]
  },
  {
   "cell_type": "code",
   "execution_count": 4,
   "metadata": {},
   "outputs": [],
   "source": [
    "QUES 2 :>\n",
    "\n",
    "class vehicle :\n",
    "\tdef __init__(self,name_of_vehicle,max_speed,average_of_vehicle):\n",
    "\t\tself.name_of_vehicle = name_of_vehicle\n",
    "\t\tself.max_speed = max_speed\n",
    "\t\tself.average_of_vehicle = average_of_vehicle"
   ]
  },
  {
   "cell_type": "code",
   "execution_count": 5,
   "metadata": {},
   "outputs": [],
   "source": [
    "class car(vehicle):\n",
    "\tdef seating_capacity(self,capacity):\n",
    "\t\treturn f\" {self.name_of_vehicle} is having capacity of {capacity} \""
   ]
  },
  {
   "cell_type": "code",
   "execution_count": 6,
   "metadata": {},
   "outputs": [
    {
     "name": "stdout",
     "output_type": "stream",
     "text": [
      " wagnor is having capacity of 5 \n"
     ]
    }
   ],
   "source": [
    "my_car = car(\"wagnor\",160,30)\n",
    "print(my_car.seating_capacity(5))"
   ]
  },
  {
   "cell_type": "code",
   "execution_count": null,
   "metadata": {},
   "outputs": [],
   "source": [
    "QUES 3 :>\n",
    "\n",
    "multiple inheritance means that a subclass can inhert from two or more superclasses."
   ]
  },
  {
   "cell_type": "code",
   "execution_count": 7,
   "metadata": {},
   "outputs": [
    {
     "data": {
      "text/plain": [
       "'i an parent 2'"
      ]
     },
     "execution_count": 7,
     "metadata": {},
     "output_type": "execute_result"
    }
   ],
   "source": [
    "class parent1:\n",
    "    def base1(self):\n",
    "        return \"i am parent 1\"\n",
    "    \n",
    "class parent2:\n",
    "    def base2(self):\n",
    "        return \"i an parent 2\"\n",
    "    \n",
    "class child(parent1,parent2):\n",
    "    pass\n",
    "\n",
    "my_child = child()\n",
    "my_child.base2()"
   ]
  },
  {
   "cell_type": "code",
   "execution_count": 8,
   "metadata": {},
   "outputs": [
    {
     "data": {
      "text/plain": [
       "'i am parent 1'"
      ]
     },
     "execution_count": 8,
     "metadata": {},
     "output_type": "execute_result"
    }
   ],
   "source": [
    "my_child.base1()"
   ]
  },
  {
   "cell_type": "code",
   "execution_count": null,
   "metadata": {},
   "outputs": [],
   "source": [
    "QUES 4:>\n",
    "\n",
    "GETTER => it is a method which is used in oops to access a class's private attributes.\n",
    "SETTER => it is a method which is useful in oops to set the value of private attributes in a class."
   ]
  },
  {
   "cell_type": "code",
   "execution_count": 9,
   "metadata": {},
   "outputs": [
    {
     "name": "stdout",
     "output_type": "stream",
     "text": [
      "21\n"
     ]
    }
   ],
   "source": [
    "class student:\n",
    "    def __init__(self,age):\n",
    "        self._age=age\n",
    "    def get_age(self):\n",
    "        return self.get_age\n",
    "    def set_age(self,a):\n",
    "        self._age=a\n",
    "\n",
    "s = student(20)\n",
    "s.set_age(21)\n",
    "print(s._age)"
   ]
  },
  {
   "cell_type": "code",
   "execution_count": null,
   "metadata": {},
   "outputs": [],
   "source": [
    "QUES 5 :>\n",
    "\n",
    "method overriding refers to defining a method in a subclass with the same name as method in superclass."
   ]
  },
  {
   "cell_type": "code",
   "execution_count": 10,
   "metadata": {},
   "outputs": [
    {
     "name": "stdout",
     "output_type": "stream",
     "text": [
      "calling child method\n"
     ]
    }
   ],
   "source": [
    "class parent:\n",
    "    def mymethod(self):\n",
    "        print(\"calling parent method\")\n",
    "\n",
    "class child(parent):\n",
    "    def mymethod(self):\n",
    "        print(\"calling child method\")\n",
    "\n",
    "my_child = child()\n",
    "my_child.mymethod()"
   ]
  }
 ],
 "metadata": {
  "kernelspec": {
   "display_name": "Python 3",
   "language": "python",
   "name": "python3"
  },
  "language_info": {
   "codemirror_mode": {
    "name": "ipython",
    "version": 3
   },
   "file_extension": ".py",
   "mimetype": "text/x-python",
   "name": "python",
   "nbconvert_exporter": "python",
   "pygments_lexer": "ipython3",
   "version": "3.8.7"
  }
 },
 "nbformat": 4,
 "nbformat_minor": 2
}
