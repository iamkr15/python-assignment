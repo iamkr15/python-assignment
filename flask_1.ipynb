{
 "cells": [
  {
   "cell_type": "code",
   "execution_count": null,
   "metadata": {},
   "outputs": [],
   "source": [
    "QUES  1  :>\n",
    "\n",
    "Flask is a micro web framework for Python, designed to make it easy to build web applications.\n",
    "It’s lightweight and modular, providing the flexibility to create both simple and complex applications.\n",
    "\n",
    "ADVANTAGES :>\n",
    "1)flexibility\n",
    "2)testing support (built in unit testing)\n",
    "3)compatibility \n",
    "4)easy to understand and UserWarning\n",
    "5)lightweight    "
   ]
  },
  {
   "cell_type": "code",
   "execution_count": null,
   "metadata": {},
   "outputs": [],
   "source": [
    "QUES 2  :>\n",
    "\n",
    "from flask import Flask\n",
    "from flask import request\n",
    "\n",
    "app = Flask(__name__)\n",
    "\n",
    "@app.route('/')\n",
    "def index():\n",
    "    return \"hello world\"\n",
    "\n",
    "if __name__ == \"__main__\":\n",
    "    app.run(debug=True)"
   ]
  },
  {
   "cell_type": "markdown",
   "metadata": {},
   "source": [
    "![alt text](<Screenshot 2024-10-19 184346.png>)"
   ]
  },
  {
   "cell_type": "code",
   "execution_count": null,
   "metadata": {},
   "outputs": [],
   "source": [
    "QUES 3  :>\n",
    "\n",
    "App routing in Flask is the process of defining the paths (URLs) that the application will respond to and associating them with specific functions (often called view functions). \n",
    "Each route corresponds to a URL and determines what content is returned when a user accesses that URL.\n"
   ]
  },
  {
   "cell_type": "code",
   "execution_count": null,
   "metadata": {},
   "outputs": [],
   "source": [
    "QUES 4  :>\n",
    "\n",
    "from flask import Flask\n",
    "from flask import request\n",
    "\n",
    "app = Flask(__name__)\n",
    "\n",
    "@app.route('/welcome')\n",
    "def index():\n",
    "    return \"Welcome to ABC Corporation\"\n",
    "\n",
    "@app.route('/')\n",
    "def index2():\n",
    "    return \"\"\"Company Name : ABC Corporation <br> Location : India <br> Contact Detail :999-999-9999 \"\"\"\n",
    "\n",
    "if __name__ == \"__main__\":\n",
    "    app.run(debug=True)"
   ]
  },
  {
   "cell_type": "markdown",
   "metadata": {},
   "source": [
    "![alt text](<Screenshot 2024-10-19 190056.png>)"
   ]
  },
  {
   "cell_type": "markdown",
   "metadata": {},
   "source": [
    "![alt text](<Screenshot 2024-10-19 190308.png>)"
   ]
  },
  {
   "cell_type": "code",
   "execution_count": null,
   "metadata": {},
   "outputs": [],
   "source": [
    "QUES 5  :>\n",
    "\n",
    "In Flask, the url_for() function is used for URL building. \n",
    "It generates a URL to the specified function based on its name and any parameters needed for that function.\n",
    "    \n",
    "\n",
    "ex:>\n",
    "\n",
    "from flask import Flask, url_for,redirect,render_template_string\n",
    "from flask import request\n",
    "\n",
    "app = Flask(__name__)\n",
    "\n",
    "@app.route('/welcome')\n",
    "def welcome():\n",
    "    return \"Welcome to ABC Corporation\"\n",
    "\n",
    "@app.route('/company')\n",
    "def company_details():\n",
    "    return \"\"\"Company Name : ABC Corporation <br> Location : India <br> Contact Detail :999-999-9999 \"\"\"\n",
    "\n",
    "@app.route('/')\n",
    "def home():\n",
    "    return render_template_string(\"\"\"\n",
    "    <h1>Home Page</h1>\n",
    "    <p><a href=\"{{ url_for('welcome') }}\">Go to Welcome Page</a></p>\n",
    "    <p><a href=\"{{ url_for('company_details') }}\">Go to Company Details</a></p>\n",
    "    \"\"\")\n",
    "\n",
    "if __name__ == \"__main__\":\n",
    "    app.run(debug=True)"
   ]
  }
 ],
 "metadata": {
  "language_info": {
   "name": "python"
  }
 },
 "nbformat": 4,
 "nbformat_minor": 2
}
