{
 "cells": [
  {
   "cell_type": "code",
   "execution_count": null,
   "metadata": {},
   "outputs": [],
   "source": [
    "QUES 1   :>\n",
    "\n",
    "Multithreading in Python is a programming technique that allows multiple threads (smaller units of a process) to run concurrently, enabling better resource utilization and improved performance for certain types of tasks.\n",
    "\n",
    "Multithreading is Used:>\n",
    "1)concurrency :>it allow programs to handle multiple tasks simultaneously.\n",
    "2)Simpler Program Structure:> It can simplify the structure of some applications, making them easier to understand .\n",
    "\n",
    "The primary module used to handle threads in Python is the threading module."
   ]
  },
  {
   "cell_type": "code",
   "execution_count": null,
   "metadata": {},
   "outputs": [],
   "source": [
    "QUES 2   :>\n",
    "\n",
    "The threading module in Python is used to create and manage threads, allowing for concurrent execution of code. \n",
    "It provides an easy-to-use interface for working with threads, enabling developers to handle multitasking.\n",
    "    \n",
    "1)activeCount():> This function returns the number of Thread objects currently alive.\n",
    "2)currentThread():> This function returns the current Thread object, which represents the thread that is currently executing.\n",
    "3)enumerate():> This function returns a list of all Thread objects currently alive.\n",
    "                This can be useful to see all threads that are still running at a given time."
   ]
  },
  {
   "cell_type": "code",
   "execution_count": null,
   "metadata": {},
   "outputs": [],
   "source": [
    "QUES 3  :>\n",
    "\n",
    "1)run():> This method defines the code that will be executed when the thread starts. By default, it calls the target function passed to the Thread object.\n",
    "\n",
    "2)start():>  This method starts the thread's activity. \n",
    "             It must be called once the thread is created.\n",
    "             When start() is invoked, it internally calls the run() method in a new thread.\n",
    "\n",
    "3)join():> This method blocks the calling thread until the thread whose join() method is called is terminated. \n",
    "           It's useful for ensuring that a thread has completed its execution before proceeding with the main program or other threads.\n",
    "\n",
    "4)isalive():> This method returns True if the thread is still alive and False otherwise.\n",
    "              This can be useful for checking the status of a thread."
   ]
  },
  {
   "cell_type": "code",
   "execution_count": 14,
   "metadata": {},
   "outputs": [
    {
     "name": "stdout",
     "output_type": "stream",
     "text": [
      "Squares: [0, 1, 4, 9, 16]\n",
      "Cubes: [0, 1, 8, 27, 64]\n",
      "Both threads have completed.\n"
     ]
    }
   ],
   "source": [
    "import threading\n",
    "\n",
    "def print_squares(n):\n",
    "    squares = [i ** 2 for i in range(n)]\n",
    "    print(\"Squares:\", squares)\n",
    "\n",
    "def print_cubes(n):\n",
    "    cubes = [i ** 3 for i in range(n)]\n",
    "    print(\"Cubes:\", cubes)\n",
    "\n",
    "if __name__ == \"__main__\":\n",
    "    n = 5  \n",
    "\n",
    "    thread1 = threading.Thread(target=print_squares, args=(n,))\n",
    "    thread2 = threading.Thread(target=print_cubes, args=(n,))\n",
    "\n",
    "    thread1.start()\n",
    "    thread2.start()\n",
    "\n",
    "    thread1.join()\n",
    "    thread2.join()\n",
    "\n",
    "    print(\"Both threads have completed.\")"
   ]
  },
  {
   "cell_type": "code",
   "execution_count": null,
   "metadata": {},
   "outputs": [],
   "source": [
    "QUES 5  :>\n",
    "\n",
    "ADVANTAGES :\n",
    "1)It doesn’t block the user. This is because threads are independent of each other.\n",
    "2)Better use of system resources is possible since threads execute tasks parallely.\n",
    "3)Enhanced performance on multi-processor machines.\n",
    "4)Multi-threaded servers and interactive GUIs use multithreading exclusively.\n",
    "\n",
    "DISADVANTAGES :\n",
    "1)As number of threads increase, complexity increases.\n",
    "2)Synchronization of shared resources (objects, data) is necessary.\n",
    "3)It is difficult to debug, result is sometimes unpredictable.\n",
    "4)Potential deadlocks which leads to starvation, i.e. some threads may not be served with a bad design\n",
    "5)Constructing and synchronizing threads is CPU/memory intensive."
   ]
  },
  {
   "cell_type": "code",
   "execution_count": null,
   "metadata": {},
   "outputs": [],
   "source": [
    "QUES 6  :>\n",
    "\n",
    "Deadlocks :>\n",
    "A deadlock occurs in a concurrent system when two or more threads are blocked forever, each waiting on the other to release a resource. \n",
    "In simpler terms, it’s a situation where threads hold resources and wait for each other in a cycle, leading to a standstill.\n",
    "\n",
    "Race condition  :>\n",
    "\n",
    "A race condition occurs when two or more threads or processes access shared data and try to change it at the same time. \n",
    "The final result depends on the timing of how the threads are scheduled, leading to unpredictable behavior.\n"
   ]
  }
 ],
 "metadata": {
  "kernelspec": {
   "display_name": "Python 3",
   "language": "python",
   "name": "python3"
  },
  "language_info": {
   "codemirror_mode": {
    "name": "ipython",
    "version": 3
   },
   "file_extension": ".py",
   "mimetype": "text/x-python",
   "name": "python",
   "nbconvert_exporter": "python",
   "pygments_lexer": "ipython3",
   "version": "3.8.7"
  }
 },
 "nbformat": 4,
 "nbformat_minor": 2
}
