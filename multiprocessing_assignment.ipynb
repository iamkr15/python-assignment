{
 "cells": [
  {
   "cell_type": "code",
   "execution_count": null,
   "metadata": {},
   "outputs": [],
   "source": [
    "QUES 1 :>\n",
    "\n",
    "Multiprocessing in Python refers to the ability to run multiple processes simultaneously, leveraging multiple CPU cores.\n",
    "\n",
    "it is particularly useful in scenarios where tasks can be executed independently and concurrently."
   ]
  },
  {
   "cell_type": "code",
   "execution_count": null,
   "metadata": {},
   "outputs": [],
   "source": [
    "QUES 2   :>\n",
    "\n",
    "MULTIPROCESSING:>\n",
    "1) Involves running multiple processes, each with its own memory space and Python interpreter.\n",
    "2)Each process has its own separate memory space.\n",
    "3)Has higher overhead\n",
    "\n",
    "Multithreading:>\n",
    "1)Involves running multiple threads within the same process.\n",
    "2)Threads share memory, which can lead to faster communication.\n",
    "3)has lower overhead."
   ]
  },
  {
   "cell_type": "code",
   "execution_count": 2,
   "metadata": {},
   "outputs": [
    {
     "name": "stdout",
     "output_type": "stream",
     "text": [
      "Process has finished execution.\n"
     ]
    }
   ],
   "source": [
    "QUES 3   :>\n",
    "\n",
    "import multiprocessing\n",
    "\n",
    "def print_numbers():\n",
    "    for i in range(5):\n",
    "        print(f\"Number: {i}\")\n",
    "\n",
    "if __name__ == \"__main__\":\n",
    "    process = multiprocessing.Process(target=print_numbers)\n",
    "    process.start()\n",
    "    process.join()\n",
    "    print(\"Process has finished execution.\")"
   ]
  },
  {
   "cell_type": "code",
   "execution_count": null,
   "metadata": {},
   "outputs": [],
   "source": [
    "QUES 4   :>\n",
    "\n",
    "A multiprocessing pool in Python is a way to manage multiple worker processes that can run tasks concurrently.\n",
    "It allows you to parallelize the execution of functions across multiple input values, making it easier to utilize multiple CPU cores efficiently.\n",
    "\n",
    "used:>\n",
    "1)performane improvement\n",
    "2)resource mahagement\n",
    "3)ease of use"
   ]
  },
  {
   "cell_type": "code",
   "execution_count": null,
   "metadata": {},
   "outputs": [],
   "source": [
    "QUES 5  :>\n",
    "\n",
    "import multiprocessing\n",
    "def square(n):\n",
    "    return n**2\n",
    "\n",
    "if __name__ == '__main__':\n",
    "    with multiprocessing.Pool(processes=4) as pool:\n",
    "        result = pool.map(square , [1,2,3,4,5,6,7,8,9])\n",
    "        \n",
    "    print(result)"
   ]
  },
  {
   "cell_type": "code",
   "execution_count": 1,
   "metadata": {},
   "outputs": [],
   "source": [
    "ques 6  :>\n",
    "\n",
    "import multiprocessing\n",
    "\n",
    "def print_number(number):\n",
    "    print(f'Process {number}: {number}')\n",
    "\n",
    "if __name__ == '__main__':\n",
    "    numbers = [1, 2, 3, 4]\n",
    "    processes = []\n",
    "\n",
    "    for number in numbers:\n",
    "        process = multiprocessing.Process(target=print_number, args=(number,))\n",
    "        processes.append(process)\n",
    "        process.start()\n",
    "\n",
    "    for process in processes:\n",
    "        process.join()"
   ]
  }
 ],
 "metadata": {
  "kernelspec": {
   "display_name": "Python 3",
   "language": "python",
   "name": "python3"
  },
  "language_info": {
   "codemirror_mode": {
    "name": "ipython",
    "version": 3
   },
   "file_extension": ".py",
   "mimetype": "text/x-python",
   "name": "python",
   "nbconvert_exporter": "python",
   "pygments_lexer": "ipython3",
   "version": "3.8.7"
  }
 },
 "nbformat": 4,
 "nbformat_minor": 2
}
