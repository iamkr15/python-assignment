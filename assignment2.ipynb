{
 "cells": [
  {
   "cell_type": "code",
   "execution_count": null,
   "id": "8dd63b9b-5b33-4fd4-a544-18412f431476",
   "metadata": {},
   "outputs": [
    {
     "ename": "SyntaxError",
     "evalue": "invalid syntax (462237325.py, line 1)",
     "output_type": "error",
     "traceback": [
      "\u001b[0;36m  Cell \u001b[0;32mIn[1], line 1\u001b[0;36m\u001b[0m\n\u001b[0;31m    Comments in Python are the lines in the code that are ignored by the interpreter during the execution of the program.\u001b[0m\n\u001b[0m                       ^\u001b[0m\n\u001b[0;31mSyntaxError\u001b[0m\u001b[0;31m:\u001b[0m invalid syntax\n"
     ]
    }
   ],
   "source": [
    "ques1 :\n",
    "Comments in Python are the lines in the code that are ignored by the interpreter during the execution of the program.\n",
    "\n",
    "types of comments\n",
    "(a)single line comments\n",
    "eg: # single line comments\n",
    "(b)multi line comments (using multiple hash tags)\n",
    "eg: #hello\n",
    "    #welcome\n",
    "(c)string literals\n",
    "eg: 'This will be ignored by Python'\n",
    "(d)docstring\n",
    "eg: \n",
    "\"\"\" docstring comment used \n",
    "print(\"Python Comments\") \"\"\"\n"
   ]
  },
  {
   "cell_type": "code",
   "execution_count": null,
   "id": "9dd08992-5563-489f-a809-f95c69c21107",
   "metadata": {},
   "outputs": [],
   "source": [
    "ques2 : A variable is created the moment you first assign a value to it\n",
    "    ex:\n",
    "x = 5\n",
    "y = \"John\"\n",
    "print(x)\n",
    "print(y)\n"
   ]
  },
  {
   "cell_type": "code",
   "execution_count": null,
   "id": "57176469-149b-46f5-8550-709a6d85edbe",
   "metadata": {},
   "outputs": [],
   "source": [
    "ques3 : Python has type conversion routines that allow for the direct translation of one data type to another.\n",
    " \n",
    "    In Python, there are two kinds of type conversion :\n",
    "\n",
    "1) Explicit Type Conversion-The programmer must perform this task manually.\n",
    "2) Implicit Type Conversion-By the Python program automatically.\n"
   ]
  },
  {
   "cell_type": "code",
   "execution_count": null,
   "id": "35d83e66-040b-45dc-8256-66c1333857dd",
   "metadata": {},
   "outputs": [],
   "source": [
    "ques4 : \n",
    " The Python script is a file containing Python-written code. The file containing Python script has the extension ‘.py\n",
    "ex: print(\"Hello, World\")\n",
    "\n",
    "Execute the script using the python command:\n",
    "\n",
    "write below line into command prompt : \n",
    "    python hello.py\n",
    "    \n",
    "You should see the output:\n",
    "    Hello, World!"
   ]
  },
  {
   "cell_type": "code",
   "execution_count": 3,
   "id": "0a1043e3-926a-4a9e-8b28-6d365d7eb940",
   "metadata": {},
   "outputs": [
    {
     "name": "stdout",
     "output_type": "stream",
     "text": [
      "[2, 3]\n"
     ]
    }
   ],
   "source": [
    "ques5 :\n",
    "    my_list=[1,2,3,4,5]\n",
    "    sub_list= my_list[1:3]\n",
    "    print(sub_list)"
   ]
  },
  {
   "cell_type": "code",
   "execution_count": null,
   "id": "6e3a880f-d1d7-455e-81ef-c5a6663b1915",
   "metadata": {},
   "outputs": [],
   "source": [
    "ques6 :\n",
    "    A complex number is a type of number that extends the concept of real numbers by including an imaginary component.\n",
    "    In mathematics, a complex number is expressed in the form:\n",
    "    z=a+bi  , where a=real b=imaginery\n",
    "    \n",
    "    ex:\n",
    "        z=3+4i\n",
    "        "
   ]
  },
  {
   "cell_type": "code",
   "execution_count": 4,
   "id": "0b41295b-bca4-4e60-9678-2f637015d6e3",
   "metadata": {},
   "outputs": [
    {
     "name": "stdout",
     "output_type": "stream",
     "text": [
      "the age is : 25\n"
     ]
    }
   ],
   "source": [
    "ques7 :\n",
    "    age = 25\n",
    "    print(\"the age is :\",age)"
   ]
  },
  {
   "cell_type": "code",
   "execution_count": 5,
   "id": "89729ffb-cba8-4e7d-9a89-567e6b9688a3",
   "metadata": {},
   "outputs": [
    {
     "data": {
      "text/plain": [
       "float"
      ]
     },
     "execution_count": 5,
     "metadata": {},
     "output_type": "execute_result"
    }
   ],
   "source": [
    "ques8:\n",
    "    price = 9.99\n",
    "    type(price)"
   ]
  },
  {
   "cell_type": "code",
   "execution_count": 6,
   "id": "a38d167f-48bb-4e28-ba68-2297efaabbaa",
   "metadata": {},
   "outputs": [
    {
     "name": "stdout",
     "output_type": "stream",
     "text": [
      "King\n"
     ]
    }
   ],
   "source": [
    "ques9:\n",
    "    name = \"King\"\n",
    "    print(name)"
   ]
  },
  {
   "cell_type": "code",
   "execution_count": 10,
   "id": "02ec16b1-3e21-4814-bb0b-74e79daf6cbe",
   "metadata": {},
   "outputs": [
    {
     "name": "stdout",
     "output_type": "stream",
     "text": [
      "world\n"
     ]
    }
   ],
   "source": [
    "ques10:\n",
    "    original_string= \"hello world!\"\n",
    "    sub_string = original_string[6:11]\n",
    "    print(sub_string)"
   ]
  },
  {
   "cell_type": "code",
   "execution_count": 11,
   "id": "10b80e7e-3d61-4238-9c26-88d49c844570",
   "metadata": {},
   "outputs": [],
   "source": [
    "ques11:\n",
    "    is_student = True "
   ]
  },
  {
   "cell_type": "code",
   "execution_count": null,
   "id": "ae294deb-4e46-4ce0-9465-cc2c855cc880",
   "metadata": {},
   "outputs": [],
   "source": []
  }
 ],
 "metadata": {
  "kernelspec": {
   "display_name": "Python 3 (ipykernel)",
   "language": "python",
   "name": "python3"
  },
  "language_info": {
   "codemirror_mode": {
    "name": "ipython",
    "version": 3
   },
   "file_extension": ".py",
   "mimetype": "text/x-python",
   "name": "python",
   "nbconvert_exporter": "python",
   "pygments_lexer": "ipython3",
   "version": "3.10.8"
  }
 },
 "nbformat": 4,
 "nbformat_minor": 5
}
