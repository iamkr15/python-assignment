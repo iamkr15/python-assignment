{
 "cells": [
  {
   "cell_type": "code",
   "execution_count": 1,
   "id": "1b5c01c0-eceb-4f1b-8f44-1b94997d9ef7",
   "metadata": {},
   "outputs": [],
   "source": [
    "QUES 1 :\n",
    "    \n",
    "\"def\" keyword is used to create function.\n",
    "    \n",
    "def test():\n",
    "\tfor i in range(0,26):\n",
    "\t\tif i%2!=0:\n",
    "\t\t\tprint(i)"
   ]
  },
  {
   "cell_type": "code",
   "execution_count": 2,
   "id": "0c1c495b-dd44-483c-856b-708a3e7d328a",
   "metadata": {},
   "outputs": [
    {
     "name": "stdout",
     "output_type": "stream",
     "text": [
      "1\n",
      "3\n",
      "5\n",
      "7\n",
      "9\n",
      "11\n",
      "13\n",
      "15\n",
      "17\n",
      "19\n",
      "21\n",
      "23\n",
      "25\n"
     ]
    }
   ],
   "source": [
    "test()"
   ]
  },
  {
   "cell_type": "code",
   "execution_count": null,
   "id": "54662465-a56f-4ba0-b9a5-ce49eca9a44b",
   "metadata": {},
   "outputs": [],
   "source": [
    "QUES 2 :\n",
    "    args: When a function uses *args, it collects all extra positional arguments into a tuple.\n",
    "    kwargs: When a function uses **kwargs, it collects all extra keyword arguments into a dictionary.\n",
    "    "
   ]
  },
  {
   "cell_type": "code",
   "execution_count": 3,
   "id": "0fbc68f6-69da-4756-b978-8b3472ecb79a",
   "metadata": {},
   "outputs": [],
   "source": [
    "examples of args:\n",
    "\n",
    "def test(*args):\n",
    "    print(args)"
   ]
  },
  {
   "cell_type": "code",
   "execution_count": 4,
   "id": "c64ae231-185f-4c71-9009-e223ff8baa83",
   "metadata": {},
   "outputs": [
    {
     "name": "stdout",
     "output_type": "stream",
     "text": [
      "(1, 2, 3, 4, 5, 6, 7, 8, 9)\n"
     ]
    }
   ],
   "source": [
    "test(1,2,3,4,5,6,7,8,9)"
   ]
  },
  {
   "cell_type": "code",
   "execution_count": 6,
   "id": "ae481e59-c2b6-417d-98ac-0bb92d7aad9c",
   "metadata": {},
   "outputs": [],
   "source": [
    "example of kwargs:\n",
    "\n",
    "def test1(**kwargs):\n",
    "    print(kwargs)"
   ]
  },
  {
   "cell_type": "code",
   "execution_count": 10,
   "id": "c18675f0-21c6-4f22-bf92-59bfafb4f809",
   "metadata": {},
   "outputs": [
    {
     "name": "stdout",
     "output_type": "stream",
     "text": [
      "{'name': 'King', 'age': 21}\n"
     ]
    }
   ],
   "source": [
    "test1(name=\"King\",age=21)"
   ]
  },
  {
   "cell_type": "code",
   "execution_count": null,
   "id": "3d9322b8-a1d2-4166-a4aa-c8f4180a2d72",
   "metadata": {},
   "outputs": [],
   "source": [
    "QUES 3 :\n",
    "    \n",
    "    an iterator is an object that allows you to traverse through a sequence of values.\n",
    "    \n",
    "Iterators implement two main methods:\n",
    "\n",
    "(a)__iter__(): This method initializes the iterator object and returns the iterator itself.\n",
    "(b)__next__(): This method returns the next value from the iterator."
   ]
  },
  {
   "cell_type": "code",
   "execution_count": 11,
   "id": "954eb226-ffff-4ee0-ac19-2b423b413982",
   "metadata": {},
   "outputs": [
    {
     "name": "stdout",
     "output_type": "stream",
     "text": [
      "2\n",
      "4\n",
      "6\n",
      "8\n",
      "10\n"
     ]
    }
   ],
   "source": [
    "examples :\n",
    "\n",
    "numbers = [2, 4, 6, 8, 10, 12, 14, 16, 18, 20]\n",
    "iterator=iter(numbers)\n",
    "for i in range(5):\n",
    "    print(next(iterator))"
   ]
  },
  {
   "cell_type": "code",
   "execution_count": null,
   "id": "cbae9214-5b70-4318-af2d-924d62bf61ef",
   "metadata": {},
   "outputs": [],
   "source": [
    "QUES 4 :\n",
    "   generative : A generator function in Python is a special type of function that generates values on the fly, \n",
    "    allowing you to iterate over a sequence of values without storing them all in memory at once.\n",
    "    \n",
    "   yields : Instead of return, generator functions use yield to produce values one at a time. \n",
    "    Each call to yield produces a value and pauses the function's execution, saving its state."
   ]
  },
  {
   "cell_type": "code",
   "execution_count": 12,
   "id": "b5864c2d-3674-4566-9e60-917fb27b88a3",
   "metadata": {},
   "outputs": [
    {
     "name": "stdout",
     "output_type": "stream",
     "text": [
      "0\n",
      "1\n",
      "1\n",
      "2\n",
      "3\n"
     ]
    }
   ],
   "source": [
    "example of generative function :\n",
    "\n",
    "def fib():\n",
    "    a,b = 0,1\n",
    "    while True:\n",
    "        yield a\n",
    "        a,b = b,b+a\n",
    "\n",
    "test3=fib()\n",
    "\n",
    "for i in range(5):\n",
    "    print(next(test3))\n",
    "    "
   ]
  },
  {
   "cell_type": "code",
   "execution_count": 13,
   "id": "835ae362-91dc-405c-8866-5ced29f4ffbe",
   "metadata": {},
   "outputs": [
    {
     "name": "stdout",
     "output_type": "stream",
     "text": [
      "2\n",
      "3\n",
      "5\n",
      "7\n",
      "11\n",
      "13\n",
      "17\n",
      "19\n",
      "23\n",
      "29\n",
      "31\n",
      "37\n",
      "41\n",
      "43\n",
      "47\n",
      "53\n",
      "59\n",
      "61\n",
      "67\n",
      "71\n"
     ]
    }
   ],
   "source": [
    "QUES 5 :\n",
    "\n",
    "def is_prime(num):\n",
    "    \n",
    "    if num <= 1:\n",
    "        return False\n",
    "    if num <= 3:\n",
    "        return True\n",
    "    if num % 2 == 0 or num % 3 == 0:\n",
    "        return False\n",
    "    i = 5\n",
    "    while i * i <= num:\n",
    "        if num % i == 0 or num % (i + 2) == 0:\n",
    "            return False\n",
    "        i += 6\n",
    "    return True\n",
    "\n",
    "def prime_generator(X):\n",
    "    \n",
    "    num = 2\n",
    "    while num < x:\n",
    "        if is_prime(num):\n",
    "            yield num\n",
    "        num += 1\n",
    "\n",
    "\n",
    "primes = prime_generator(1000)\n",
    "\n",
    "\n",
    "for _ in range(20):\n",
    "    print(next(primes))"
   ]
  },
  {
   "cell_type": "code",
   "execution_count": 14,
   "id": "fc574bb8-bd93-4dfe-b194-e729611b2ba1",
   "metadata": {},
   "outputs": [
    {
     "name": "stdout",
     "output_type": "stream",
     "text": [
      "0\n",
      "1\n",
      "1\n",
      "2\n",
      "3\n",
      "5\n",
      "8\n",
      "13\n",
      "21\n",
      "34\n"
     ]
    }
   ],
   "source": [
    "QUES 6 :\n",
    "\n",
    "def fib():\n",
    "\ta,b = 0,1\n",
    "\twhile True:\n",
    "\t\tyield a\n",
    "\t\ta,b = b,b+a\n",
    "\n",
    "\t\t\n",
    "test4=fib()\n",
    "\n",
    "for i in range(10):\n",
    "\tprint(next(test4))"
   ]
  },
  {
   "cell_type": "code",
   "execution_count": 15,
   "id": "c3c8f841-d314-4ebb-af7b-be0553857e7e",
   "metadata": {},
   "outputs": [
    {
     "data": {
      "text/plain": [
       "['p', 'w', 's', 'k', 'i', 'l', 'l', 's']"
      ]
     },
     "execution_count": 15,
     "metadata": {},
     "output_type": "execute_result"
    }
   ],
   "source": [
    "QUES 7 :\n",
    "\n",
    "s=\"pwskills\"\n",
    "list(filter(lambda s:s.upper,s))"
   ]
  },
  {
   "cell_type": "code",
   "execution_count": 24,
   "id": "513406b7-9a14-49d1-9771-a6228dad55a9",
   "metadata": {},
   "outputs": [
    {
     "name": "stdout",
     "output_type": "stream",
     "text": [
      "[1, 3, 5, 7, 9, 11, 13, 15, 17, 19, 21, 23, 25, 27, 29, 31, 33, 35, 37, 39, 41, 43, 45, 47, 49, 51, 53, 55, 57, 59, 61, 63, 65, 67, 69, 71, 73, 75, 77, 79, 81, 83, 85, 87, 89, 91, 93, 95, 97, 99]\n"
     ]
    }
   ],
   "source": [
    "QUES 8 :\n",
    "\n",
    "odd_numbers = [num for num in range(1, 101) if num % 2 != 0]\n",
    "print(odd_numbers)"
   ]
  },
  {
   "cell_type": "code",
   "execution_count": null,
   "id": "3f17e276-ea2d-49f1-81a9-ffb34e7a274c",
   "metadata": {},
   "outputs": [],
   "source": []
  }
 ],
 "metadata": {
  "kernelspec": {
   "display_name": "Python 3 (ipykernel)",
   "language": "python",
   "name": "python3"
  },
  "language_info": {
   "codemirror_mode": {
    "name": "ipython",
    "version": 3
   },
   "file_extension": ".py",
   "mimetype": "text/x-python",
   "name": "python",
   "nbconvert_exporter": "python",
   "pygments_lexer": "ipython3",
   "version": "3.10.8"
  }
 },
 "nbformat": 4,
 "nbformat_minor": 5
}
