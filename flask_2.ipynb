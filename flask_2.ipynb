{
 "cells": [
  {
   "cell_type": "code",
   "execution_count": null,
   "metadata": {},
   "outputs": [],
   "source": [
    "QUES 1  :>\n",
    "\n",
    "GET :>The GET method is used to request data from a specified resource. \n",
    "      It is generally used for retrieving data without any side effects.\n",
    "      it is used to give the value which is visibile in the url.\n",
    "\n",
    "POST :>The POST method is used to send data to the server, typically to create or update a resource. \n",
    "       It is used when you want to submit form data or send large amounts of data.\n"
   ]
  },
  {
   "cell_type": "code",
   "execution_count": null,
   "metadata": {},
   "outputs": [],
   "source": [
    "QUES 2 :>\n",
    "\n",
    "In Flask, the request object is used to handle incoming data from client requests. \n",
    "It provides a convenient way to access various parts of the HTTP request, making it easier to process user inputs and manage data flow in web applications.\n"
   ]
  },
  {
   "cell_type": "code",
   "execution_count": null,
   "metadata": {},
   "outputs": [],
   "source": [
    "QUES 3  :>\n",
    "\n",
    "REDIRECT() :>       \n",
    "In Flask, the redirect() function is used to send a response back to the client that instructs the browser to navigate to a different URL. \n",
    "This is often done after handling a request, such as when processing a form submission or after a user action, to guide the user to a new page or route.\n"
   ]
  },
  {
   "cell_type": "code",
   "execution_count": null,
   "metadata": {},
   "outputs": [],
   "source": [
    "QUES 4   :>\n",
    "\n",
    "TEMPLATES :> \n",
    "\n",
    "In Flask, templates are HTML files that allow you to dynamically generate content for your web pages. \n",
    "They enable you to separate the presentation layer from the business logic of your application, making it easier to manage and maintain the code. \n",
    "Templates can include placeholders for data, which are replaced with actual values when the page is rendered.\n",
    "\n",
    "RENDER TEMPLATES() :>\n",
    "\n",
    "The render_template() function is used to render a template with the given context. \n",
    "It takes the name of the template file and any variables you want to pass to the template.\n"
   ]
  },
  {
   "cell_type": "code",
   "execution_count": null,
   "metadata": {},
   "outputs": [],
   "source": [
    "QUES 5   :>\n",
    "\n",
    "from flask import Flask, jsonify, request\n",
    "\n",
    "app = Flask(__name__)\n",
    "\n",
    "users = []\n",
    "\n",
    "@app.route('/users', methods=['GET'])\n",
    "def get_users():\n",
    "    return jsonify(users)\n",
    "\n",
    "@app.route('/users', methods=['POST'])\n",
    "def create_user():\n",
    "    user = request.json \n",
    "    users.append(user)    \n",
    "    return jsonify(user), 201  \n",
    "\n",
    "if __name__ == '__main__':\n",
    "    app.run(debug=True)"
   ]
  }
 ],
 "metadata": {
  "language_info": {
   "name": "python"
  }
 },
 "nbformat": 4,
 "nbformat_minor": 2
}
