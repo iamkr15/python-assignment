{
 "cells": [
  {
   "cell_type": "code",
   "execution_count": null,
   "metadata": {},
   "outputs": [],
   "source": [
    "QUES 1 :>\n",
    "\n",
    "Abstraction in Object-Oriented Programming (OOP) is the concept of hiding the complex implementation details of a system and exposing only the necessary features to the user."
   ]
  },
  {
   "cell_type": "code",
   "execution_count": 1,
   "metadata": {},
   "outputs": [
    {
     "name": "stdout",
     "output_type": "stream",
     "text": [
      "Engine started\n",
      "Driving the car\n",
      "Engine stopped\n"
     ]
    }
   ],
   "source": [
    "class Car:\n",
    "    def __init__(self, model):\n",
    "        self.model = model\n",
    "\n",
    "    def start_engine(self):\n",
    "        print(\"Engine started\")\n",
    "\n",
    "    def drive(self):\n",
    "        print(\"Driving the car\")\n",
    "\n",
    "    def stop_engine(self):\n",
    "        print(\"Engine stopped\")\n",
    "\n",
    "my_car = Car(\"Toyota\")\n",
    "my_car.start_engine()  \n",
    "my_car.drive()\n",
    "my_car.stop_engine()"
   ]
  },
  {
   "cell_type": "code",
   "execution_count": null,
   "metadata": {},
   "outputs": [],
   "source": [
    "QUES 2 :>\n",
    "\n",
    "ABSTRACTION :\n",
    "Abstraction is the concept of hiding complex implementation details and showing only the essential features of an object. \n",
    "It helps to reduce programming complexity and increase efficiency.\n",
    "\n",
    "ENCAPSULATION :\n",
    "Encapsulation is the bundling of data (attributes) and methods (functions) that operate on that data into a single unit or class. \n",
    "It restricts direct access to some of the object’s components and can prevent the accidental modification of data."
   ]
  },
  {
   "cell_type": "code",
   "execution_count": 2,
   "metadata": {},
   "outputs": [
    {
     "name": "stdout",
     "output_type": "stream",
     "text": [
      "Withdrew: 50. New balance: 50\n"
     ]
    }
   ],
   "source": [
    "class BankAccount:\n",
    "    def __init__(self, account_number, balance=0):\n",
    "        self.account_number = account_number\n",
    "        self.__balance = balance \n",
    "\n",
    "    def deposit(self, amount):\n",
    "        if amount > 0:\n",
    "            self.__balance += amount\n",
    "        else:\n",
    "            print('Deposit amount must be positive!')\n",
    "\n",
    "    def withdraw(self, amount):\n",
    "        if 0 < amount <= self.__balance:\n",
    "            self.__balance -= amount\n",
    "            print(f'Withdrew: {amount}. New balance: {self.__balance}')\n",
    "        else:\n",
    "            print('Insufficient funds or invalid amount!')\n",
    "\n",
    "    def get_balance(self):\n",
    "        return self.__balance\n",
    "\n",
    "account = BankAccount(\"123456789\")\n",
    "account.deposit(100)\n",
    "account.withdraw(50)"
   ]
  },
  {
   "cell_type": "code",
   "execution_count": null,
   "metadata": {},
   "outputs": [],
   "source": [
    "QUES 3 :>\n",
    "\n",
    "The abc module in Python stands for \"Abstract Base Classes.\" It is part of the standard library and provides a way to define abstract base classes, which can be used to define a common interface for a group of related classes. \n",
    "\n",
    "uses of abc:>\n",
    "1)Promote Code Reusability\n",
    "2)Design Patterns\n",
    "3)Type checking"
   ]
  },
  {
   "cell_type": "code",
   "execution_count": null,
   "metadata": {},
   "outputs": [],
   "source": [
    "QUES 4 :>\n",
    "\n",
    "By combining these techniques—abstract base classes, encapsulation, properties, interfaces, modules, and composition—you can effectively achieve data abstraction in Python, making your code cleaner, more maintainable, and easier to understand."
   ]
  },
  {
   "cell_type": "code",
   "execution_count": null,
   "metadata": {},
   "outputs": [],
   "source": [
    "QUES  5 :>\n",
    "\n",
    "No, you cannot create an instance of an abstract class in Python. \n",
    "An abstract class is defined using the abc module, and it may contain abstract methods that have not been implemented. \n",
    "Since the purpose of an abstract class is to provide a blueprint for subclasses, it does not represent a complete implementation itself.\n",
    "\n",
    "Explanation\n",
    "When you define an abstract class using the ABC class from the abc module, any class that has at least one abstract method cannot be instantiated directly. \n",
    "Attempting to do so will raise a TypeError."
   ]
  }
 ],
 "metadata": {
  "kernelspec": {
   "display_name": "Python 3",
   "language": "python",
   "name": "python3"
  },
  "language_info": {
   "codemirror_mode": {
    "name": "ipython",
    "version": 3
   },
   "file_extension": ".py",
   "mimetype": "text/x-python",
   "name": "python",
   "nbconvert_exporter": "python",
   "pygments_lexer": "ipython3",
   "version": "3.8.7"
  }
 },
 "nbformat": 4,
 "nbformat_minor": 2
}
