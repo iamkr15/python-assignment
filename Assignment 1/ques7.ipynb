{
 "cells": [
  {
   "cell_type": "code",
   "execution_count": 3,
   "id": "97422c3c-f73c-40d4-b78f-f82568a4e002",
   "metadata": {},
   "outputs": [],
   "source": [
    "# mutable data type => which can be easily modified,updated,changed is mutable.List is a mutable.\n",
    "#example:\n",
    "l=[2,4,5,\"hey\",True,30.5]\n",
    "l[3]=\"hello\""
   ]
  },
  {
   "cell_type": "code",
   "execution_count": 7,
   "id": "5b3bd86e-73ff-484c-8017-31290afaea3e",
   "metadata": {},
   "outputs": [
    {
     "data": {
      "text/plain": [
       "[2, 4, 5, 'hello', True, 30.5]"
      ]
     },
     "execution_count": 7,
     "metadata": {},
     "output_type": "execute_result"
    }
   ],
   "source": [
    "l"
   ]
  },
  {
   "cell_type": "code",
   "execution_count": 8,
   "id": "db13f2a1-01df-46be-bb50-2570b3339c02",
   "metadata": {},
   "outputs": [],
   "source": [
    "# immutable data type => which cannot be easily modified,updated,changed is mutable.String is immutable.\n",
    "#example:\n",
    "s=[\"HELLO\"]"
   ]
  },
  {
   "cell_type": "code",
   "execution_count": 10,
   "id": "40a54a80-b56a-46f6-9208-f8bbe979cd47",
   "metadata": {},
   "outputs": [
    {
     "ename": "IndexError",
     "evalue": "list assignment index out of range",
     "output_type": "error",
     "traceback": [
      "\u001b[0;31m---------------------------------------------------------------------------\u001b[0m",
      "\u001b[0;31mIndexError\u001b[0m                                Traceback (most recent call last)",
      "Cell \u001b[0;32mIn[10], line 1\u001b[0m\n\u001b[0;32m----> 1\u001b[0m \u001b[43ms\u001b[49m\u001b[43m[\u001b[49m\u001b[38;5;241;43m2\u001b[39;49m\u001b[43m]\u001b[49m\u001b[38;5;241m=\u001b[39m\u001b[38;5;124m\"\u001b[39m\u001b[38;5;124mi\u001b[39m\u001b[38;5;124m\"\u001b[39m\n",
      "\u001b[0;31mIndexError\u001b[0m: list assignment index out of range"
     ]
    }
   ],
   "source": [
    "s[2]=\"i\""
   ]
  },
  {
   "cell_type": "code",
   "execution_count": 11,
   "id": "b38a79a3-987d-4d6c-9c03-742328950ed5",
   "metadata": {},
   "outputs": [
    {
     "data": {
      "text/plain": [
       "['HELLO']"
      ]
     },
     "execution_count": 11,
     "metadata": {},
     "output_type": "execute_result"
    }
   ],
   "source": [
    "s"
   ]
  },
  {
   "cell_type": "code",
   "execution_count": null,
   "id": "a65adaf2-47c9-4975-ab10-33c1cc3217b4",
   "metadata": {},
   "outputs": [],
   "source": []
  }
 ],
 "metadata": {
  "kernelspec": {
   "display_name": "Python 3 (ipykernel)",
   "language": "python",
   "name": "python3"
  },
  "language_info": {
   "codemirror_mode": {
    "name": "ipython",
    "version": 3
   },
   "file_extension": ".py",
   "mimetype": "text/x-python",
   "name": "python",
   "nbconvert_exporter": "python",
   "pygments_lexer": "ipython3",
   "version": "3.10.8"
  }
 },
 "nbformat": 4,
 "nbformat_minor": 5
}
