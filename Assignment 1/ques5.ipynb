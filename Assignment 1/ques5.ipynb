{
 "cells": [
  {
   "cell_type": "code",
   "execution_count": 16,
   "id": "37c97497-c5a9-44d1-b405-153b6bbf91e8",
   "metadata": {},
   "outputs": [
    {
     "name": "stdin",
     "output_type": "stream",
     "text": [
      " 49\n",
      " 5\n"
     ]
    },
    {
     "name": "stdout",
     "output_type": "stream",
     "text": [
      "49 is not divisible by 5\n"
     ]
    }
   ],
   "source": [
    "a=int(input())\n",
    "b=int(input())\n",
    "div_count=divisible_count(a,b)\n",
    "if a%b==0:\n",
    "    print(f\"{a} is divisible by {b} and {div_count} times\")\n",
    "else:\n",
    "    print(f\"{a} is not divisible by {b}\")\n",
    "    \n",
    "def divisible_count(a,b):\n",
    "    count=0\n",
    "    while a%b==0:\n",
    "        count +=1\n",
    "        a /=b\n",
    "    return count"
   ]
  },
  {
   "cell_type": "code",
   "execution_count": null,
   "id": "5b6b1e6c-7eec-4f30-9d09-4559587156a9",
   "metadata": {},
   "outputs": [],
   "source": []
  }
 ],
 "metadata": {
  "kernelspec": {
   "display_name": "Python 3 (ipykernel)",
   "language": "python",
   "name": "python3"
  },
  "language_info": {
   "codemirror_mode": {
    "name": "ipython",
    "version": 3
   },
   "file_extension": ".py",
   "mimetype": "text/x-python",
   "name": "python",
   "nbconvert_exporter": "python",
   "pygments_lexer": "ipython3",
   "version": "3.10.8"
  }
 },
 "nbformat": 4,
 "nbformat_minor": 5
}
