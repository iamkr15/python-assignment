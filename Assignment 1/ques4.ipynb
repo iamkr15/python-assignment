{
 "cells": [
  {
   "cell_type": "code",
   "execution_count": 12,
   "id": "7879c3dc-0061-4f08-8448-4e893018accf",
   "metadata": {},
   "outputs": [
    {
     "name": "stdout",
     "output_type": "stream",
     "text": [
      "2\n",
      "<class 'int'>\n",
      "3\n",
      "<class 'int'>\n",
      "4\n",
      "<class 'int'>\n",
      "5\n",
      "<class 'int'>\n",
      "hey\n",
      "<class 'str'>\n",
      "True\n",
      "<class 'bool'>\n",
      "30.4\n",
      "<class 'float'>\n",
      "False\n",
      "<class 'bool'>\n",
      "22\n",
      "<class 'int'>\n",
      "15\n",
      "<class 'int'>\n"
     ]
    }
   ],
   "source": [
    "l=[2,3,4,5,'hey',True,30.4,False,22,15]\n",
    "for i in l:\n",
    "    print(i)\n",
    "    print(type(i))\n",
    "    "
   ]
  },
  {
   "cell_type": "code",
   "execution_count": null,
   "id": "8da01539-0c45-435a-83c2-33cd4264df75",
   "metadata": {},
   "outputs": [],
   "source": []
  }
 ],
 "metadata": {
  "kernelspec": {
   "display_name": "Python 3 (ipykernel)",
   "language": "python",
   "name": "python3"
  },
  "language_info": {
   "codemirror_mode": {
    "name": "ipython",
    "version": 3
   },
   "file_extension": ".py",
   "mimetype": "text/x-python",
   "name": "python",
   "nbconvert_exporter": "python",
   "pygments_lexer": "ipython3",
   "version": "3.10.8"
  }
 },
 "nbformat": 4,
 "nbformat_minor": 5
}
