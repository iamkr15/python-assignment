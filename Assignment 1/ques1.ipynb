{
 "cells": [
  {
   "cell_type": "code",
   "execution_count": 2,
   "id": "4bcb3ee7-0cc8-4376-bf13-f35a65fcc0f8",
   "metadata": {},
   "outputs": [
    {
     "name": "stdout",
     "output_type": "stream",
     "text": [
      "a= hello world\n",
      "a= [2, 3, 4, 5, 6]\n",
      "a= 30.5\n",
      "a= (10, 20, 30)\n"
     ]
    }
   ],
   "source": [
    "string_variable=\"hello world\"\n",
    "list_variable=[2,3,4,5,6]\n",
    "float_variable=30.5\n",
    "tuple_variable=(10,20,30)\n",
    "\n",
    "print(\"a=\",string_variable)\n",
    "print(\"a=\",list_variable)\n",
    "print(\"a=\",float_variable)\n",
    "print(\"a=\",tuple_variable)"
   ]
  },
  {
   "cell_type": "code",
   "execution_count": null,
   "id": "8c58c003-9aae-47aa-b969-c49afbc31289",
   "metadata": {},
   "outputs": [],
   "source": []
  }
 ],
 "metadata": {
  "kernelspec": {
   "display_name": "Python 3 (ipykernel)",
   "language": "python",
   "name": "python3"
  },
  "language_info": {
   "codemirror_mode": {
    "name": "ipython",
    "version": 3
   },
   "file_extension": ".py",
   "mimetype": "text/x-python",
   "name": "python",
   "nbconvert_exporter": "python",
   "pygments_lexer": "ipython3",
   "version": "3.10.8"
  }
 },
 "nbformat": 4,
 "nbformat_minor": 5
}
