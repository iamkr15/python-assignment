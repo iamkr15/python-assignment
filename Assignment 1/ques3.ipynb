{
 "cells": [
  {
   "cell_type": "code",
   "execution_count": 1,
   "id": "0c095b82-14ea-4a8b-85a2-77084cef5eee",
   "metadata": {},
   "outputs": [
    {
     "name": "stdout",
     "output_type": "stream",
     "text": [
      "4.0\n"
     ]
    }
   ],
   "source": [
    "#(1) / => division\n",
    "x=8\n",
    "y=2\n",
    "print(x/y)\n"
   ]
  },
  {
   "cell_type": "code",
   "execution_count": 2,
   "id": "fc079ce9-0773-443c-a2a3-648210595ec0",
   "metadata": {},
   "outputs": [
    {
     "name": "stdout",
     "output_type": "stream",
     "text": [
      "1\n"
     ]
    }
   ],
   "source": [
    "#(2) % => modulus\n",
    "x=1\n",
    "y=5\n",
    "print(x%y)"
   ]
  },
  {
   "cell_type": "code",
   "execution_count": 3,
   "id": "b15d4086-8c61-476d-8fc2-e32ca4d1e58a",
   "metadata": {},
   "outputs": [
    {
     "name": "stdout",
     "output_type": "stream",
     "text": [
      "9\n"
     ]
    }
   ],
   "source": [
    "#(3) // => floor division\n",
    "x=49\n",
    "y=5\n",
    "print(x//y)"
   ]
  },
  {
   "cell_type": "code",
   "execution_count": 4,
   "id": "1397ce08-ea64-472d-b8b3-357d51559144",
   "metadata": {},
   "outputs": [
    {
     "name": "stdout",
     "output_type": "stream",
     "text": [
      "32\n"
     ]
    }
   ],
   "source": [
    "#(4) ** => exponential\n",
    "x=2\n",
    "y=5\n",
    "print(x**y)"
   ]
  },
  {
   "cell_type": "code",
   "execution_count": null,
   "id": "3cbf8f3d-2083-4ede-a076-6313102f1525",
   "metadata": {},
   "outputs": [],
   "source": []
  }
 ],
 "metadata": {
  "kernelspec": {
   "display_name": "Python 3 (ipykernel)",
   "language": "python",
   "name": "python3"
  },
  "language_info": {
   "codemirror_mode": {
    "name": "ipython",
    "version": 3
   },
   "file_extension": ".py",
   "mimetype": "text/x-python",
   "name": "python",
   "nbconvert_exporter": "python",
   "pygments_lexer": "ipython3",
   "version": "3.10.8"
  }
 },
 "nbformat": 4,
 "nbformat_minor": 5
}
