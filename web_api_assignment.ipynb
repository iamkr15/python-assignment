{
 "cells": [
  {
   "cell_type": "code",
   "execution_count": null,
   "metadata": {
    "vscode": {
     "languageId": "plaintext"
    }
   },
   "outputs": [],
   "source": [
    "QUES 1  :>\n",
    "\n",
    "An API (Application Programming Interface) is a set of rules and protocols that allows different software applications to communicate with each other.\n",
    "It defines the methods and data formats that applications can use to request and exchange information.\n",
    "\n",
    "A common real-life example of an API is a weather service API. Many applications use these APIs to fetch current weather data.\n"
   ]
  },
  {
   "cell_type": "code",
   "execution_count": null,
   "metadata": {},
   "outputs": [],
   "source": [
    "QUES 2  :>\n",
    "\n",
    "ADVANATGES :>\n",
    "1)scalability\n",
    "2)security\n",
    "3)time saving (by providing pre built functions which speed up development)\n",
    "4)interopearbility\n",
    "\n",
    "DISADVANTAGES :>\n",
    "1)complexity\n",
    "2)cost \n",
    "3)limited control\n",
    "4)security risks"
   ]
  },
  {
   "cell_type": "code",
   "execution_count": null,
   "metadata": {},
   "outputs": [],
   "source": [
    "QUES 3  :>\n",
    "\n",
    "A Web API (Application Programming Interface) is a specific type of API that allows different software applications to communicate over the internet using standard protocols, typically HTTP. \n",
    "\n",
    "API :>\n",
    "1)may support various formats for data interchange\n",
    "2)can use various protocols\n",
    "3)can be designed for local use or remote access\n",
    "\n",
    "WEB API :>\n",
    "1)commonly uses JSON or XML as a data format\n",
    "2)relies on http or https\n",
    "3)generally designed for remote access"
   ]
  },
  {
   "cell_type": "code",
   "execution_count": null,
   "metadata": {},
   "outputs": [],
   "source": [
    "QUES 4  :>\n",
    "\n",
    "REST :> (Representational state transfer)\n",
    "\n",
    "1)Principles:\n",
    "\n",
    "a)Stateless: Each request from a client contains all the information needed to process it. The server does not store client context.\n",
    "b)Client-Server Separation: The client and server are independent; changes to one do not affect the other.\n",
    "c)Uniform Interface: Standardized methods (HTTP verbs like GET, POST, PUT, DELETE) are used to interact with resources identified by URLs.\n",
    "d)Resource-Based: Everything is treated as a resource, with unique URIs.\n",
    "\n",
    "2)Data Formats: Typically uses JSON, but can also use XML, HTML, or plain text.\n",
    "\n",
    "3)Caching: Responses can be cached to improve performance.\n",
    "\n",
    "SOAP  :> (Simple object access protocol)\n",
    "\n",
    "1)Protocol-Based: SOAP is a protocol that defines a set of rules for structuring messages.\n",
    "2)WSDL (Web Services Description Language): SOAP services are described using WSDL, which defines the service's operations and message formats.\n",
    "3)XML-Based: Messages are formatted in XML, providing a standardized way to encode requests and responses.\n",
    "4)Transport Independence: While it commonly uses HTTP/HTTPS, SOAP can also work over other protocols like SMTP.\n",
    "\n",
    "SHORTCOMING OF SOAP:>\n",
    "1)limited browser support (not easily consumed by web browser)\n",
    "2)less flexibility\n",
    "3)complexity (due to its rigid standards and protocols)\n",
    "4)tight coupling (making changes to service is more challenging)\n"
   ]
  },
  {
   "cell_type": "code",
   "execution_count": null,
   "metadata": {},
   "outputs": [],
   "source": [
    "QUES 5  :>\n",
    "\n",
    "REST :>\n",
    "1)stateless communication\n",
    "2)primarily uses JSON\n",
    "3)simple and more flexible\n",
    "4)faster and more lightweight due to less overhead\n",
    "\n",
    "SOAP :>\n",
    "1)can be stateless or stateful\n",
    "2)exclusively uses XML\n",
    "3)more complex \n",
    "4)can be slower due to large size of xml messages"
   ]
  }
 ],
 "metadata": {
  "language_info": {
   "name": "python"
  }
 },
 "nbformat": 4,
 "nbformat_minor": 2
}
