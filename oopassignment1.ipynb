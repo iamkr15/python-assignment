{
 "cells": [
  {
   "cell_type": "code",
   "execution_count": null,
   "metadata": {},
   "outputs": [],
   "source": [
    "QUES 1 :>\n",
    "\n",
    "Class :\n",
    "A class is a blueprint or template for creating objects. It defines the properties (attributes) and behaviors (methods) that the objects created from the class will have.\n",
    "\n",
    "Object\n",
    "An object is an instance of a class. It is created based on the class definition and can hold its own data and perform actions defined by the class's methods."
   ]
  },
  {
   "cell_type": "code",
   "execution_count": 2,
   "metadata": {},
   "outputs": [],
   "source": [
    "class student:\n",
    "    def __init__(self,name,email):\n",
    "        self.name = name\n",
    "        self.email = email\n",
    "\n",
    "    def students_details(self):\n",
    "        print(self.name,self.email)"
   ]
  },
  {
   "cell_type": "code",
   "execution_count": 5,
   "metadata": {},
   "outputs": [
    {
     "name": "stdout",
     "output_type": "stream",
     "text": [
      "sudh sudh@gmail.com\n"
     ]
    }
   ],
   "source": [
    "s = student(\"sudh\",\"sudh@gmail.com\")\n",
    "s.students_details()"
   ]
  },
  {
   "cell_type": "code",
   "execution_count": null,
   "metadata": {},
   "outputs": [],
   "source": [
    "QUES 2 :>\n",
    "\n",
    "Pillars of OOPs are:\n",
    "1)Inheritance 2)Encapsulation 3)Abstraction 4)Polymorphism"
   ]
  },
  {
   "cell_type": "code",
   "execution_count": null,
   "metadata": {},
   "outputs": [],
   "source": [
    "QUES 3 :>\n",
    "\n",
    "The __init__() function in Python serves as a constructor for a class. \n",
    "It's automatically called when a new instance of the class is created, allowing you to initialize the object's attributes with specific values."
   ]
  },
  {
   "cell_type": "code",
   "execution_count": 6,
   "metadata": {},
   "outputs": [
    {
     "name": "stdout",
     "output_type": "stream",
     "text": [
      "sudh sudh@gmail.com\n"
     ]
    }
   ],
   "source": [
    "class student:\n",
    "    def __init__(self,name,email):\n",
    "        self.name = name\n",
    "        self.email = email\n",
    "\n",
    "    def students_details(self):\n",
    "        print(self.name,self.email)\n",
    "\n",
    "s = student(\"sudh\",\"sudh@gmail.com\")\n",
    "s.students_details()"
   ]
  },
  {
   "cell_type": "code",
   "execution_count": null,
   "metadata": {},
   "outputs": [],
   "source": [
    "QUES 4 :>\n",
    "\n",
    "In Object-Oriented Programming (OOP) in Python, self is a reference to the instance of the class itself.\n",
    " It is used to access variables and methods associated with the instance."
   ]
  },
  {
   "cell_type": "code",
   "execution_count": null,
   "metadata": {},
   "outputs": [],
   "source": [
    "QUES 5 :>\n",
    "\n",
    "Inheritance is a fundamental concept in object-oriented programming that allows a class (called a child or subclass) to inherit attributes and methods from another class (called a parent or superclass).\n",
    " This promotes code reusability."
   ]
  },
  {
   "cell_type": "code",
   "execution_count": 7,
   "metadata": {},
   "outputs": [
    {
     "name": "stdout",
     "output_type": "stream",
     "text": [
      "Animal sound\n",
      "Woof!\n"
     ]
    }
   ],
   "source": [
    "1)SINGLE INHERITANCE\n",
    "\n",
    "class Animal:\n",
    "    def speak(self):\n",
    "        return \"Animal sound\"\n",
    "\n",
    "class Dog(Animal):\n",
    "    def bark(self):\n",
    "        return \"Woof!\"\n",
    "\n",
    "\n",
    "dog = Dog()\n",
    "print(dog.speak())  \n",
    "print(dog.bark())"
   ]
  },
  {
   "cell_type": "code",
   "execution_count": 8,
   "metadata": {},
   "outputs": [
    {
     "name": "stdout",
     "output_type": "stream",
     "text": [
      "Woof!\n",
      "Playing with pet!\n"
     ]
    }
   ],
   "source": [
    "2)MULTIPLE INHERITNACE\n",
    "\n",
    "class Canine:\n",
    "    def bark(self):\n",
    "        return \"Woof!\"\n",
    "\n",
    "class Pet:\n",
    "    def play(self):\n",
    "        return \"Playing with pet!\"\n",
    "\n",
    "class Dog(Canine, Pet):\n",
    "    pass\n",
    "\n",
    "dog = Dog()\n",
    "print(dog.bark())\n",
    "print(dog.play()) "
   ]
  },
  {
   "cell_type": "code",
   "execution_count": 9,
   "metadata": {},
   "outputs": [
    {
     "name": "stdout",
     "output_type": "stream",
     "text": [
      "Animal sound\n",
      "Bark\n",
      "Whine!\n"
     ]
    }
   ],
   "source": [
    "3)MULTILEVEL INHERITANCE\n",
    "\n",
    "class Animal:\n",
    "    def speak(self):\n",
    "        return \"Animal sound\"\n",
    "\n",
    "class Dog(Animal):\n",
    "    def bark(self):\n",
    "        return \"Bark\"\n",
    "\n",
    "class Puppy(Dog):\n",
    "    def whine(self):\n",
    "        return \"Whine!\"\n",
    "\n",
    "puppy = Puppy()\n",
    "print(puppy.speak())  \n",
    "print(puppy.bark())   \n",
    "print(puppy.whine()) "
   ]
  },
  {
   "cell_type": "code",
   "execution_count": 10,
   "metadata": {},
   "outputs": [
    {
     "name": "stdout",
     "output_type": "stream",
     "text": [
      "Animal sound\n",
      "Animal sound\n",
      "Bark\n",
      "Meow!\n"
     ]
    }
   ],
   "source": [
    "4)HIERARCHIAL INHERITANCE\n",
    "\n",
    "class Animal:\n",
    "    def speak(self):\n",
    "        return \"Animal sound\"\n",
    "\n",
    "class Dog(Animal):\n",
    "    def bark(self):\n",
    "        return \"Bark\"\n",
    "\n",
    "class Cat(Animal):\n",
    "    def meow(self):\n",
    "        return \"Meow!\"\n",
    "\n",
    "dog = Dog()\n",
    "cat = Cat()\n",
    "print(dog.speak())  \n",
    "print(cat.speak())  \n",
    "print(dog.bark())   \n",
    "print(cat.meow()) "
   ]
  },
  {
   "cell_type": "code",
   "execution_count": 11,
   "metadata": {},
   "outputs": [
    {
     "name": "stdout",
     "output_type": "stream",
     "text": [
      "Animal sound\n",
      "Roar!\n"
     ]
    }
   ],
   "source": [
    "5)HYBRID INHERITANCE\n",
    "\n",
    "class Animal:\n",
    "    def speak(self):\n",
    "        return \"Animal sound\"\n",
    "\n",
    "class Canine(Animal):\n",
    "    def bark(self):\n",
    "        return \"Woof!\"\n",
    "\n",
    "class Feline(Animal):\n",
    "    def meow(self):\n",
    "        return \"Meow!\"\n",
    "\n",
    "class Dog(Canine):\n",
    "    pass\n",
    "\n",
    "class Cat(Feline):\n",
    "    pass\n",
    "\n",
    "class Lion(Canine, Feline):\n",
    "    def roar(self):\n",
    "        return \"Roar!\"\n",
    "\n",
    "\n",
    "lion = Lion()\n",
    "print(lion.speak())  \n",
    "print(lion.roar())"
   ]
  }
 ],
 "metadata": {
  "kernelspec": {
   "display_name": "Python 3",
   "language": "python",
   "name": "python3"
  },
  "language_info": {
   "codemirror_mode": {
    "name": "ipython",
    "version": 3
   },
   "file_extension": ".py",
   "mimetype": "text/x-python",
   "name": "python",
   "nbconvert_exporter": "python",
   "pygments_lexer": "ipython3",
   "version": "3.8.7"
  }
 },
 "nbformat": 4,
 "nbformat_minor": 2
}
