{
 "cells": [
  {
   "cell_type": "code",
   "execution_count": 2,
   "id": "0215f19e-6182-439c-8887-951f7bb099a5",
   "metadata": {},
   "outputs": [
    {
     "name": "stdout",
     "output_type": "stream",
     "text": [
      "[('Sachin Tendulkar', 34357), ('Ricky Ponting', 27483), ('Jack Kallis', 25534), ('Virat Kohli', 24936)]\n"
     ]
    }
   ],
   "source": [
    "QUES 1 :\n",
    "\n",
    "l = [('Sachin Tendulkar', 34357),('Ricky Ponting', 27483),('Jack Kallis', 25534),('Virat Kohli', 24936)]\n",
    "sorted_players = sorted(l, key=lambda x: x[1], reverse=True)\n",
    "print(sorted_players)"
   ]
  },
  {
   "cell_type": "code",
   "execution_count": 3,
   "id": "ff4dbd98-dcb7-46b8-adfd-918ab421232d",
   "metadata": {},
   "outputs": [
    {
     "data": {
      "text/plain": [
       "[1, 4, 9, 16, 25, 36, 49, 64, 81, 100]"
      ]
     },
     "execution_count": 3,
     "metadata": {},
     "output_type": "execute_result"
    }
   ],
   "source": [
    "QUES 2 :\n",
    "\n",
    "l=[1,2,3,4,5,6,7,8,9,10]\n",
    "list(map(lambda x:x**2,l))"
   ]
  },
  {
   "cell_type": "code",
   "execution_count": 6,
   "id": "f603a8b2-3d7d-4460-8ce9-33f526f732ee",
   "metadata": {},
   "outputs": [
    {
     "data": {
      "text/plain": [
       "('1', '2', '3', '4', '5', '6', '7', '8', '9', '10')"
      ]
     },
     "execution_count": 6,
     "metadata": {},
     "output_type": "execute_result"
    }
   ],
   "source": [
    "QUES 3 :\n",
    "\n",
    "k=[1,2,3,4,5,6,7,8,9,10]\n",
    "tuple(map(lambda k:str(k),k))"
   ]
  },
  {
   "cell_type": "code",
   "execution_count": 4,
   "id": "333651f3-b4cc-462d-a53c-ef8dc41974f2",
   "metadata": {},
   "outputs": [
    {
     "data": {
      "text/plain": [
       "15511210043330985984000000"
      ]
     },
     "execution_count": 4,
     "metadata": {},
     "output_type": "execute_result"
    }
   ],
   "source": [
    "QUES 4 :\n",
    "\n",
    "from functools import reduce\n",
    "l=[1,2,3,4,5,6,7,8,9,10,11,12,13,14,15,16,17,18,19,20,21,22,23,24,25]\n",
    "reduce(lambda x,y:x*y,l)"
   ]
  },
  {
   "cell_type": "code",
   "execution_count": 5,
   "id": "524878dc-3474-4c4e-b5db-ad8cf06687cc",
   "metadata": {},
   "outputs": [
    {
     "data": {
      "text/plain": [
       "[6, 60, 90, 120]"
      ]
     },
     "execution_count": 5,
     "metadata": {},
     "output_type": "execute_result"
    }
   ],
   "source": [
    "QUES 5 :\n",
    "\n",
    "l=[2,3,6,9,27,60,90,120,55,46]\n",
    "list(filter(lambda x:x%2==0 and x%3==0,l))"
   ]
  },
  {
   "cell_type": "code",
   "execution_count": 7,
   "id": "abed275f-902b-459e-b9b5-6ccace1bfae4",
   "metadata": {},
   "outputs": [
    {
     "data": {
      "text/plain": [
       "['php', 'aba', 'radar', 'level']"
      ]
     },
     "execution_count": 7,
     "metadata": {},
     "output_type": "execute_result"
    }
   ],
   "source": [
    "QUES 6 :\n",
    "\n",
    "strings = ['python', 'php', 'aba', 'radar', 'level']\n",
    "is_palindrome = lambda s: s == s[::-1]\n",
    "list(filter(is_palindrome, strings))"
   ]
  },
  {
   "cell_type": "code",
   "execution_count": null,
   "id": "3fa89bfb-3d67-416e-9eae-24d40894b48f",
   "metadata": {},
   "outputs": [],
   "source": []
  }
 ],
 "metadata": {
  "kernelspec": {
   "display_name": "Python 3 (ipykernel)",
   "language": "python",
   "name": "python3"
  },
  "language_info": {
   "codemirror_mode": {
    "name": "ipython",
    "version": 3
   },
   "file_extension": ".py",
   "mimetype": "text/x-python",
   "name": "python",
   "nbconvert_exporter": "python",
   "pygments_lexer": "ipython3",
   "version": "3.10.8"
  }
 },
 "nbformat": 4,
 "nbformat_minor": 5
}
