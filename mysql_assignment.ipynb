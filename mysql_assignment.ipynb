{
 "cells": [
  {
   "cell_type": "code",
   "execution_count": null,
   "metadata": {},
   "outputs": [],
   "source": [
    "QUES 1  :>\n",
    "\n",
    "A database is an organized collection of data that allows for efficient storage, retrieval, and management of information.\n",
    " Databases are typically managed by a Database Management System (DBMS), which provides the tools for users to create, read, update, and delete data.\n",
    "\n",
    "SQL:>\n",
    "1)Structured \n",
    "2)relational\n",
    "3)fixed schema\n",
    "4)ACID compliant (atomicity,consistency,isolation,durability)\n",
    "\n",
    "NOSQL :>\n",
    "1)Flexible\n",
    "2)non-relational\n",
    "3)dynamic schema\n",
    "4)BASE compliant (basically available,soft state,eventually consistency)"
   ]
  },
  {
   "cell_type": "code",
   "execution_count": null,
   "metadata": {},
   "outputs": [],
   "source": [
    "QUES 2 :>\n",
    "\n",
    "DDL stands for Data Definition Language, which is a subset of SQL (Structured Query Language) used to define and manage the structure of a database.\n",
    "\n",
    "1)CREATE :> used to create new database objects.\n",
    "ex:\n",
    "CREATE TABLE customer(\n",
    "    customerID INT,\n",
    "    firstname VARCHAR(15),\n",
    "    email VARCHAR(28)\n",
    ");\n",
    "\n",
    "2)DROP :> used to delete existing database objects.\n",
    "ex:\n",
    "DROP TABLE customer;\n",
    "\n",
    "3)ALTER  :> used to modify the structure of an existing database object.\n",
    "ex:\n",
    "ALTER TABLE customer ADD phonenumber varchar(20);\n",
    "\n",
    "4)TRUNCATE :>clears data from a structure but retains it for future use.\n",
    "ex:\n",
    "TRUNCATE TABLE customer;\n"
   ]
  },
  {
   "cell_type": "code",
   "execution_count": null,
   "metadata": {},
   "outputs": [],
   "source": [
    "QUES 3  :>\n",
    "\n",
    "DML stands for Data Manipulation Language, which is a subset of SQL (Structured Query Language) used for managing data within relational databases.\n",
    "\n",
    "1)INSERT :> used to add new row of data into a table.\n",
    "ex:\n",
    "INSERT INTO employee(employeeID,Fname,Lname,hiredate)\n",
    "VALUES (1,\"jhonny\",\"kumar\",'25-10-2024');\n",
    "\n",
    "2)UPDATE :>used to modify existing data in a table.\n",
    "ex:\n",
    "UPDATE employee SET Lname=\"garg\" WHERE employeeID = 1;\n",
    "\n",
    "3)DELETE :> used to remove rows from a table.\n",
    "ex:\n",
    "DELETE FROM employee WHERE employeeID =1;"
   ]
  },
  {
   "cell_type": "code",
   "execution_count": null,
   "metadata": {},
   "outputs": [],
   "source": [
    "QUES 4  :>\n",
    "\n",
    "DQL stands for Data Query Language, a subset of SQL (Structured Query Language) used to query and retrieve data from a database. \n",
    "The primary command in DQL is SELECT.\n",
    "\n",
    "SELECT :> used to specify which data we want to retrive from the table.\n",
    "\n",
    "ex:> imagine we have table with name employee with following columns ID,name,department,salary.\n",
    "\n",
    "SELECT name,salary FROM employee WHERE department =\"IT\";\n"
   ]
  },
  {
   "cell_type": "code",
   "execution_count": null,
   "metadata": {},
   "outputs": [],
   "source": [
    "QUES 5 :>\n",
    "\n",
    "1)PRIMARY KEY :> \n",
    "it is a unique identifer for each record in a database table.\n",
    "it ensures that no two rows have the same key value.\n",
    "\n",
    "2)FOREIGN KEY :>\n",
    "it is a field in one table that refers to the primary key in the other table.\n",
    "It establishes a relationship between the two tables, allowing for the linking of data across them.\n"
   ]
  },
  {
   "cell_type": "code",
   "execution_count": null,
   "metadata": {},
   "outputs": [],
   "source": [
    "QUES 6  :>\n",
    "\n",
    "CURSOR() :>The cursor() method creates a new cursor object using the connection object.\n",
    "\n",
    "ECECUTE() :>The execute() method is called on the cursor object to execute a SQL query.\n",
    "\n",
    "EX:>\n",
    "import mysql.connector\n",
    "mydb = mysql.connector.connect(\n",
    "    host=\"localhost\",\n",
    "    user=\"user\",\n",
    "    password=\"password\"\n",
    ")\n",
    "mycurser = mydb.curser()\n",
    "mycurser.execute(\"CREATE DATABASE if not exists test\")\n",
    "mydb.close()"
   ]
  },
  {
   "cell_type": "code",
   "execution_count": null,
   "metadata": {},
   "outputs": [],
   "source": [
    "QUES 7  :> order of execution SQL clause:\n",
    "\n",
    "FROM: Determines the tables from which to retrieve data.\n",
    "\n",
    "JOIN: Combines rows from two or more tables based on related columns.\n",
    "\n",
    "WHERE: Filters rows based on specified conditions.\n",
    "\n",
    "GROUP BY: Groups rows that have the same values in specified columns into summary rows.\n",
    "\n",
    "HAVING: Filters groups based on specified conditions.\n",
    "\n",
    "SELECT: Specifies the columns to be returned in the result set.\n",
    "\n",
    "DISTINCT: Removes duplicate rows from the result set.\n",
    "\n",
    "ORDER BY: Sorts the result set based on specified columns.\n"
   ]
  }
 ],
 "metadata": {
  "language_info": {
   "name": "python"
  }
 },
 "nbformat": 4,
 "nbformat_minor": 2
}
