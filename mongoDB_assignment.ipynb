{
 "cells": [
  {
   "cell_type": "code",
   "execution_count": null,
   "metadata": {},
   "outputs": [],
   "source": [
    "QUES 1  :>\n",
    "\n",
    "MongoDB is a popular open-source, document-oriented NoSQL database designed for scalability, performance, and flexibility. \n",
    "It stores data in JSON-like documents.\n",
    "MongoDB is known for its ability to handle large volumes of unstructured data.\n",
    "\n",
    "NON-RELATIONAL DATABASE:>\n",
    "Non-relational databases, often referred to as NoSQL databases, are designed to handle unstructured or semi-structured data.\n",
    "Unlike traditional relational databases, which use tables and rows, non-relational databases can use various data models, including key-value, document, column-family, and graph.\n",
    "\n",
    "SCENARIO TO PREFER MONGODB OVER SQL:>\n",
    "1)unstructured data\n",
    "2)rapid development\n",
    "3)complex data structure"
   ]
  },
  {
   "cell_type": "code",
   "execution_count": null,
   "metadata": {},
   "outputs": [],
   "source": [
    "QUES 2  :>\n",
    "\n",
    "FEATURE OF MONGODB:>\n",
    "\n",
    "1)scalability\n",
    "2)high availability\n",
    "3) rich query language\n",
    "4)document oriented storage\n",
    "5)flexible schema"
   ]
  },
  {
   "cell_type": "code",
   "execution_count": null,
   "metadata": {},
   "outputs": [],
   "source": [
    "QUES 3   :>\n",
    "\n",
    "from pymongo import MongoClient\n",
    "\n",
    "# Connect to MongoDB \n",
    "client = MongoClient('mongodb://localhost:27017/')\n",
    "\n",
    "# Create a database\n",
    "db = client['my_database']\n",
    "\n",
    "# Create a collection\n",
    "collection = db['my_collection']\n",
    "\n",
    "# Print confirmation\n",
    "print(\"Database and collection created successfully!\")"
   ]
  },
  {
   "cell_type": "code",
   "execution_count": null,
   "metadata": {},
   "outputs": [],
   "source": [
    "QUES 4   :>\n",
    "\n",
    "from pymongo import MongoClient\n",
    "\n",
    "client = MongoClient(\"mongodb://localhost:27017/\")\n",
    "\n",
    "db = client[\"mydatabase\"]\n",
    "collection = db[\"mycollection\"]\n",
    "\n",
    "single_record = {\n",
    "    \"name\": \"John Doe\",\n",
    "    \"age\": 30,\n",
    "    \"city\": \"New York\"\n",
    "}\n",
    "inserted_id = collection.insert_one(single_record).inserted_id\n",
    "print(f\"Inserted single record with ID: {inserted_id}\")\n",
    "\n",
    "multiple_records = [\n",
    "    {\"name\": \"Alice Smith\", \"age\": 25, \"city\": \"Los Angeles\"},\n",
    "    {\"name\": \"Bob Johnson\", \"age\": 35, \"city\": \"Chicago\"},\n",
    "    {\"name\": \"Charlie Brown\", \"age\": 28, \"city\": \"Houston\"}\n",
    "]\n",
    "inserted_ids = collection.insert_many(multiple_records).inserted_ids\n",
    "print(f\"Inserted multiple records with IDs: {inserted_ids}\")\n",
    "\n",
    "print(\"Inserted single record:\")\n",
    "print(collection.find_one({\"_id\": inserted_id}))\n",
    "\n",
    "print(\"All records in the collection:\")\n",
    "for record in collection.find():\n",
    "    print(record)"
   ]
  },
  {
   "cell_type": "code",
   "execution_count": null,
   "metadata": {},
   "outputs": [],
   "source": [
    "QUES 5   :>\n",
    "\n",
    "To use the find() method in MongoDB, you typically query a collection to retrieve documents that match specific criteria.\n",
    "\n",
    "ex:>\n",
    "\n",
    "from pymongo import MongoClient\n",
    "\n",
    "client = MongoClient('mongodb://localhost:27017')\n",
    "db = client['yourDatabase'] \n",
    "collection = db['yourCollection']\n",
    "\n",
    "query = {'name': 'rohit'}\n",
    "results = collection.find(query)\n",
    "\n",
    "for document in results:\n",
    "    print(document)\n",
    "\n",
    "client.close()"
   ]
  },
  {
   "cell_type": "code",
   "execution_count": null,
   "metadata": {},
   "outputs": [],
   "source": [
    "QUES 6  :>\n",
    "\n",
    "In MongoDB, you can sort the results of a query using the sort() method.\n",
    "When using Python, you typically interact with MongoDB through the pymongo library, \n",
    "which provides an easy way to sort documents returned from a collection.\n",
    "\n"
   ]
  },
  {
   "cell_type": "code",
   "execution_count": null,
   "metadata": {},
   "outputs": [],
   "source": [
    "QUES 7  :>\n",
    "\n",
    "1)DELETE ONE() :>\n",
    "This method is used to remove a single document that matches a specified filter.\n",
    "\n",
    "2)DELETE MANY() :>\n",
    "This method removes all documents that match a specified filter. \n",
    "It’s helpful for bulk deletions based on certain criteria.\n",
    "\n",
    "3)DROP() :>\n",
    "This method is used to completely remove a collection from the database. \n",
    "It deletes the entire collection and all its documents."
   ]
  }
 ],
 "metadata": {
  "kernelspec": {
   "display_name": "Python 3",
   "language": "python",
   "name": "python3"
  },
  "language_info": {
   "codemirror_mode": {
    "name": "ipython",
    "version": 3
   },
   "file_extension": ".py",
   "mimetype": "text/x-python",
   "name": "python",
   "nbconvert_exporter": "python",
   "pygments_lexer": "ipython3",
   "version": "3.8.7"
  }
 },
 "nbformat": 4,
 "nbformat_minor": 2
}
