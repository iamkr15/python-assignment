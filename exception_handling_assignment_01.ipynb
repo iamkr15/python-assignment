{
 "cells": [
  {
   "cell_type": "code",
   "execution_count": null,
   "metadata": {},
   "outputs": [],
   "source": [
    "QUES 1 :>\n",
    "\n",
    " An exception is an event that occurs during the execution of a program that disrupts the normal flow of instructions. \n",
    "When an exception is raised, it can be caught and handled using try and except blocks, allowing the program to continue running or to terminate gracefully.\n",
    "\n",
    "difference between exception and syntax error :>\n",
    "\n",
    "Exception:>These occur during the execution of a program when an operation fails.\n",
    "\n",
    "SyntaxError:>These occur when the code does not conform to the syntax rules of Python. \n",
    "            They are detected when the code is being compiled before execution."
   ]
  },
  {
   "cell_type": "code",
   "execution_count": null,
   "metadata": {},
   "outputs": [],
   "source": [
    "QUES 2  :>\n",
    "\n",
    "Python will display an error message that includes the type of exception, a description of the error, and the traceback showing where the error occurred.\n"
   ]
  },
  {
   "cell_type": "code",
   "execution_count": 1,
   "metadata": {},
   "outputs": [
    {
     "ename": "ZeroDivisionError",
     "evalue": "division by zero",
     "output_type": "error",
     "traceback": [
      "\u001b[1;31m---------------------------------------------------------------------------\u001b[0m",
      "\u001b[1;31mZeroDivisionError\u001b[0m                         Traceback (most recent call last)",
      "Cell \u001b[1;32mIn[1], line 4\u001b[0m\n\u001b[0;32m      1\u001b[0m \u001b[38;5;28;01mdef\u001b[39;00m \u001b[38;5;21mdivide_number\u001b[39m(a,b):\n\u001b[0;32m      2\u001b[0m     \u001b[38;5;28;01mreturn\u001b[39;00m a\u001b[38;5;241m/\u001b[39mb\n\u001b[1;32m----> 4\u001b[0m result \u001b[38;5;241m=\u001b[39m \u001b[43mdivide_number\u001b[49m\u001b[43m(\u001b[49m\u001b[38;5;241;43m10\u001b[39;49m\u001b[43m,\u001b[49m\u001b[38;5;241;43m0\u001b[39;49m\u001b[43m)\u001b[49m\n\u001b[0;32m      5\u001b[0m \u001b[38;5;28mprint\u001b[39m(result)\n",
      "Cell \u001b[1;32mIn[1], line 2\u001b[0m, in \u001b[0;36mdivide_number\u001b[1;34m(a, b)\u001b[0m\n\u001b[0;32m      1\u001b[0m \u001b[38;5;28;01mdef\u001b[39;00m \u001b[38;5;21mdivide_number\u001b[39m(a,b):\n\u001b[1;32m----> 2\u001b[0m     \u001b[38;5;28;01mreturn\u001b[39;00m \u001b[43ma\u001b[49m\u001b[38;5;241;43m/\u001b[39;49m\u001b[43mb\u001b[49m\n",
      "\u001b[1;31mZeroDivisionError\u001b[0m: division by zero"
     ]
    }
   ],
   "source": [
    "EXAMPLE:>\n",
    "\n",
    "def divide_number(a,b):\n",
    "    return a/b\n",
    "\n",
    "result = divide_number(10,0)\n",
    "print(result)"
   ]
  },
  {
   "cell_type": "code",
   "execution_count": null,
   "metadata": {},
   "outputs": [],
   "source": [
    "QUES 3  :>\n",
    "\n",
    "In Python, the try and except statements are used to catch and handle exceptions.\n",
    "\n",
    "try Block:>  Contains the code that might raise an exception.\n",
    "except Block:> Contains the code that executes if an exception occurs. "
   ]
  },
  {
   "cell_type": "code",
   "execution_count": 2,
   "metadata": {},
   "outputs": [
    {
     "name": "stdout",
     "output_type": "stream",
     "text": [
      "error occur in the code [Errno 2] No such file or directory: 'test29.txt'\n"
     ]
    }
   ],
   "source": [
    "try :\n",
    "    f=open(\"test29.txt\",\"r\")\n",
    "except Exception as e :\n",
    "    print(\"error occur in the code\",e)"
   ]
  },
  {
   "cell_type": "code",
   "execution_count": null,
   "metadata": {},
   "outputs": [],
   "source": [
    "QUES 4  :>\n",
    "\n",
    "1)try Block:> Contains the code that might raise an exception.\n",
    "\n",
    "2)except Block:> Contains the code that executes if an exception occurs.\n",
    "\n",
    "3)else Block :> Executes if the try block does not raise an exception.\n",
    "\n",
    "4) finally Block :> Always executes after the try block, regardless of whether an exception was raised or caught"
   ]
  },
  {
   "cell_type": "code",
   "execution_count": 3,
   "metadata": {},
   "outputs": [
    {
     "name": "stdout",
     "output_type": "stream",
     "text": [
      "i am in else cloumn\n",
      "i am in finally statement\n"
     ]
    }
   ],
   "source": [
    "try :\n",
    "    f=open(\"test.txt\",\"r\")\n",
    "except Exception as e :\n",
    "    print(\"error occur in the code\",e)\n",
    "else :\n",
    "    print(\"i am in else cloumn\")\n",
    "finally:\n",
    "    print(\"i am in finally statement\")"
   ]
  },
  {
   "cell_type": "code",
   "execution_count": null,
   "metadata": {},
   "outputs": [],
   "source": [
    "QUES 5  :>\n",
    "\n",
    "Custom exceptions in Python are user-defined exceptions that extend the built-in Exception class.\n",
    "They allow you to create specific error types that can represent particular issues in your application, making your error handling more meaningful and organized."
   ]
  },
  {
   "cell_type": "code",
   "execution_count": 4,
   "metadata": {},
   "outputs": [
    {
     "name": "stdout",
     "output_type": "stream",
     "text": [
      "age is valid\n"
     ]
    }
   ],
   "source": [
    "QUES 6 AND EXAMPLE OF QUES 5 :>\n",
    "\n",
    "class valid_age():\n",
    "    def __init__(self,msg):\n",
    "        self.msg = msg\n",
    "\n",
    "def validate(age):\n",
    "    if age<=0:\n",
    "        raise valid_age(\"entered age is negative\")\n",
    "    elif age>150:\n",
    "        raise valid_age(\"entered age is not valid\")\n",
    "    else:\n",
    "        print(\"age is valid\")\n",
    "\n",
    "try:\n",
    "    age = int(input(\"enter the age\"))\n",
    "    validate(age)\n",
    "except valid_age as e:\n",
    "    print(e)"
   ]
  }
 ],
 "metadata": {
  "kernelspec": {
   "display_name": "Python 3",
   "language": "python",
   "name": "python3"
  },
  "language_info": {
   "codemirror_mode": {
    "name": "ipython",
    "version": 3
   },
   "file_extension": ".py",
   "mimetype": "text/x-python",
   "name": "python",
   "nbconvert_exporter": "python",
   "pygments_lexer": "ipython3",
   "version": "3.8.7"
  }
 },
 "nbformat": 4,
 "nbformat_minor": 2
}
